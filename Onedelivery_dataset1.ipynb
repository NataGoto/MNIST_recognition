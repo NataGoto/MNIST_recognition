{
  "nbformat": 4,
  "nbformat_minor": 0,
  "metadata": {
    "colab": {
      "provenance": [],
      "authorship_tag": "ABX9TyMitM3dP6HmJNrIiSeirDp0",
      "include_colab_link": true
    },
    "kernelspec": {
      "name": "python3",
      "display_name": "Python 3"
    },
    "language_info": {
      "name": "python"
    }
  },
  "cells": [
    {
      "cell_type": "markdown",
      "metadata": {
        "id": "view-in-github",
        "colab_type": "text"
      },
      "source": [
        "<a href=\"https://colab.research.google.com/github/NataGoto/MNIST_recognition/blob/main/Onedelivery_dataset1.ipynb\" target=\"_parent\"><img src=\"https://colab.research.google.com/assets/colab-badge.svg\" alt=\"Open In Colab\"/></a>"
      ]
    },
    {
      "cell_type": "code",
      "execution_count": 2,
      "metadata": {
        "colab": {
          "base_uri": "https://localhost:8080/"
        },
        "id": "GldNL9yruK4x",
        "outputId": "27ac9520-3320-4b26-92a3-4d526f3fafc5"
      },
      "outputs": [
        {
          "output_type": "stream",
          "name": "stdout",
          "text": [
            "Mounted at /content/drive/\n"
          ]
        }
      ],
      "source": [
        "from google.colab import drive\n",
        "drive.mount('/content/drive/')"
      ]
    },
    {
      "cell_type": "code",
      "source": [
        "!ls \"/content/drive/MyDrive/Onedelivery/ОД заказы для AI - 01062023-01122023.csv\""
      ],
      "metadata": {
        "colab": {
          "base_uri": "https://localhost:8080/"
        },
        "id": "q_2eUAm1vV_B",
        "outputId": "0eb3ba41-2f20-45ca-8e9d-4ac59776c7aa"
      },
      "execution_count": 4,
      "outputs": [
        {
          "output_type": "stream",
          "name": "stdout",
          "text": [
            "'/content/drive/MyDrive/Onedelivery/ОД заказы для AI - 01062023-01122023.csv'\n"
          ]
        }
      ]
    },
    {
      "cell_type": "code",
      "source": [
        "import shutil\n",
        "shutil.copy(\"/content/drive/MyDrive/Onedelivery/ОД заказы для AI - 01062023-01122023.csv\", \"/content/1dataset.csv\")"
      ],
      "metadata": {
        "colab": {
          "base_uri": "https://localhost:8080/",
          "height": 36
        },
        "id": "dd6s1UeOwc62",
        "outputId": "dff144ee-7d93-41c2-9465-f3357015a8af"
      },
      "execution_count": 6,
      "outputs": [
        {
          "output_type": "execute_result",
          "data": {
            "text/plain": [
              "'/content/1dataset.csv'"
            ],
            "application/vnd.google.colaboratory.intrinsic+json": {
              "type": "string"
            }
          },
          "metadata": {},
          "execution_count": 6
        }
      ]
    },
    {
      "cell_type": "code",
      "source": [
        "import pandas as pd\n",
        "\n",
        "# Load the dataset\n",
        "file_path = '/content/1dataset.csv'\n",
        "data = pd.read_csv(file_path)\n",
        "\n",
        "# Display the first few rows of the dataset for a preliminary overview\n",
        "data.head() # мы видим что в датасете есть мгого незаполненных данных\n"
      ],
      "metadata": {
        "colab": {
          "base_uri": "https://localhost:8080/",
          "height": 206
        },
        "id": "wvcgBUTDuLsL",
        "outputId": "1482fd12-7fb9-4ed2-de13-387b51957c0f"
      },
      "execution_count": 7,
      "outputs": [
        {
          "output_type": "execute_result",
          "data": {
            "text/plain": [
              "         №          Оформлен  Заказчик Тип заказа    Время доставки  \\\n",
              "0  64505.0  30.06.2023 17:52  406285.0   Доставка  30.06.2023 19:51   \n",
              "1      NaN               NaN       NaN        NaN               NaN   \n",
              "2      NaN               NaN       NaN        NaN               NaN   \n",
              "3  64501.0  30.06.2023 15:45  777245.0   Доставка  30.06.2023 17:44   \n",
              "4      NaN               NaN       NaN        NaN               NaN   \n",
              "\n",
              "   Стоимость Статус заказа     Товар  Стоимость товара  Количество  \n",
              "0     2675.0      В работе       NaN               NaN         NaN  \n",
              "1        NaN           NaN  164038.0            2325.0         1.0  \n",
              "2        NaN           NaN  164039.0              50.0         1.0  \n",
              "3     1690.0      В работе       NaN               NaN         NaN  \n",
              "4        NaN           NaN  164025.0            1690.0         1.0  "
            ],
            "text/html": [
              "\n",
              "  <div id=\"df-dded77fd-e22c-44d8-816f-17f3ef9d7be0\" class=\"colab-df-container\">\n",
              "    <div>\n",
              "<style scoped>\n",
              "    .dataframe tbody tr th:only-of-type {\n",
              "        vertical-align: middle;\n",
              "    }\n",
              "\n",
              "    .dataframe tbody tr th {\n",
              "        vertical-align: top;\n",
              "    }\n",
              "\n",
              "    .dataframe thead th {\n",
              "        text-align: right;\n",
              "    }\n",
              "</style>\n",
              "<table border=\"1\" class=\"dataframe\">\n",
              "  <thead>\n",
              "    <tr style=\"text-align: right;\">\n",
              "      <th></th>\n",
              "      <th>№</th>\n",
              "      <th>Оформлен</th>\n",
              "      <th>Заказчик</th>\n",
              "      <th>Тип заказа</th>\n",
              "      <th>Время доставки</th>\n",
              "      <th>Стоимость</th>\n",
              "      <th>Статус заказа</th>\n",
              "      <th>Товар</th>\n",
              "      <th>Стоимость товара</th>\n",
              "      <th>Количество</th>\n",
              "    </tr>\n",
              "  </thead>\n",
              "  <tbody>\n",
              "    <tr>\n",
              "      <th>0</th>\n",
              "      <td>64505.0</td>\n",
              "      <td>30.06.2023 17:52</td>\n",
              "      <td>406285.0</td>\n",
              "      <td>Доставка</td>\n",
              "      <td>30.06.2023 19:51</td>\n",
              "      <td>2675.0</td>\n",
              "      <td>В работе</td>\n",
              "      <td>NaN</td>\n",
              "      <td>NaN</td>\n",
              "      <td>NaN</td>\n",
              "    </tr>\n",
              "    <tr>\n",
              "      <th>1</th>\n",
              "      <td>NaN</td>\n",
              "      <td>NaN</td>\n",
              "      <td>NaN</td>\n",
              "      <td>NaN</td>\n",
              "      <td>NaN</td>\n",
              "      <td>NaN</td>\n",
              "      <td>NaN</td>\n",
              "      <td>164038.0</td>\n",
              "      <td>2325.0</td>\n",
              "      <td>1.0</td>\n",
              "    </tr>\n",
              "    <tr>\n",
              "      <th>2</th>\n",
              "      <td>NaN</td>\n",
              "      <td>NaN</td>\n",
              "      <td>NaN</td>\n",
              "      <td>NaN</td>\n",
              "      <td>NaN</td>\n",
              "      <td>NaN</td>\n",
              "      <td>NaN</td>\n",
              "      <td>164039.0</td>\n",
              "      <td>50.0</td>\n",
              "      <td>1.0</td>\n",
              "    </tr>\n",
              "    <tr>\n",
              "      <th>3</th>\n",
              "      <td>64501.0</td>\n",
              "      <td>30.06.2023 15:45</td>\n",
              "      <td>777245.0</td>\n",
              "      <td>Доставка</td>\n",
              "      <td>30.06.2023 17:44</td>\n",
              "      <td>1690.0</td>\n",
              "      <td>В работе</td>\n",
              "      <td>NaN</td>\n",
              "      <td>NaN</td>\n",
              "      <td>NaN</td>\n",
              "    </tr>\n",
              "    <tr>\n",
              "      <th>4</th>\n",
              "      <td>NaN</td>\n",
              "      <td>NaN</td>\n",
              "      <td>NaN</td>\n",
              "      <td>NaN</td>\n",
              "      <td>NaN</td>\n",
              "      <td>NaN</td>\n",
              "      <td>NaN</td>\n",
              "      <td>164025.0</td>\n",
              "      <td>1690.0</td>\n",
              "      <td>1.0</td>\n",
              "    </tr>\n",
              "  </tbody>\n",
              "</table>\n",
              "</div>\n",
              "    <div class=\"colab-df-buttons\">\n",
              "\n",
              "  <div class=\"colab-df-container\">\n",
              "    <button class=\"colab-df-convert\" onclick=\"convertToInteractive('df-dded77fd-e22c-44d8-816f-17f3ef9d7be0')\"\n",
              "            title=\"Convert this dataframe to an interactive table.\"\n",
              "            style=\"display:none;\">\n",
              "\n",
              "  <svg xmlns=\"http://www.w3.org/2000/svg\" height=\"24px\" viewBox=\"0 -960 960 960\">\n",
              "    <path d=\"M120-120v-720h720v720H120Zm60-500h600v-160H180v160Zm220 220h160v-160H400v160Zm0 220h160v-160H400v160ZM180-400h160v-160H180v160Zm440 0h160v-160H620v160ZM180-180h160v-160H180v160Zm440 0h160v-160H620v160Z\"/>\n",
              "  </svg>\n",
              "    </button>\n",
              "\n",
              "  <style>\n",
              "    .colab-df-container {\n",
              "      display:flex;\n",
              "      gap: 12px;\n",
              "    }\n",
              "\n",
              "    .colab-df-convert {\n",
              "      background-color: #E8F0FE;\n",
              "      border: none;\n",
              "      border-radius: 50%;\n",
              "      cursor: pointer;\n",
              "      display: none;\n",
              "      fill: #1967D2;\n",
              "      height: 32px;\n",
              "      padding: 0 0 0 0;\n",
              "      width: 32px;\n",
              "    }\n",
              "\n",
              "    .colab-df-convert:hover {\n",
              "      background-color: #E2EBFA;\n",
              "      box-shadow: 0px 1px 2px rgba(60, 64, 67, 0.3), 0px 1px 3px 1px rgba(60, 64, 67, 0.15);\n",
              "      fill: #174EA6;\n",
              "    }\n",
              "\n",
              "    .colab-df-buttons div {\n",
              "      margin-bottom: 4px;\n",
              "    }\n",
              "\n",
              "    [theme=dark] .colab-df-convert {\n",
              "      background-color: #3B4455;\n",
              "      fill: #D2E3FC;\n",
              "    }\n",
              "\n",
              "    [theme=dark] .colab-df-convert:hover {\n",
              "      background-color: #434B5C;\n",
              "      box-shadow: 0px 1px 3px 1px rgba(0, 0, 0, 0.15);\n",
              "      filter: drop-shadow(0px 1px 2px rgba(0, 0, 0, 0.3));\n",
              "      fill: #FFFFFF;\n",
              "    }\n",
              "  </style>\n",
              "\n",
              "    <script>\n",
              "      const buttonEl =\n",
              "        document.querySelector('#df-dded77fd-e22c-44d8-816f-17f3ef9d7be0 button.colab-df-convert');\n",
              "      buttonEl.style.display =\n",
              "        google.colab.kernel.accessAllowed ? 'block' : 'none';\n",
              "\n",
              "      async function convertToInteractive(key) {\n",
              "        const element = document.querySelector('#df-dded77fd-e22c-44d8-816f-17f3ef9d7be0');\n",
              "        const dataTable =\n",
              "          await google.colab.kernel.invokeFunction('convertToInteractive',\n",
              "                                                    [key], {});\n",
              "        if (!dataTable) return;\n",
              "\n",
              "        const docLinkHtml = 'Like what you see? Visit the ' +\n",
              "          '<a target=\"_blank\" href=https://colab.research.google.com/notebooks/data_table.ipynb>data table notebook</a>'\n",
              "          + ' to learn more about interactive tables.';\n",
              "        element.innerHTML = '';\n",
              "        dataTable['output_type'] = 'display_data';\n",
              "        await google.colab.output.renderOutput(dataTable, element);\n",
              "        const docLink = document.createElement('div');\n",
              "        docLink.innerHTML = docLinkHtml;\n",
              "        element.appendChild(docLink);\n",
              "      }\n",
              "    </script>\n",
              "  </div>\n",
              "\n",
              "\n",
              "<div id=\"df-c21f7fa3-6f36-44ed-8168-1bf8a45efd45\">\n",
              "  <button class=\"colab-df-quickchart\" onclick=\"quickchart('df-c21f7fa3-6f36-44ed-8168-1bf8a45efd45')\"\n",
              "            title=\"Suggest charts\"\n",
              "            style=\"display:none;\">\n",
              "\n",
              "<svg xmlns=\"http://www.w3.org/2000/svg\" height=\"24px\"viewBox=\"0 0 24 24\"\n",
              "     width=\"24px\">\n",
              "    <g>\n",
              "        <path d=\"M19 3H5c-1.1 0-2 .9-2 2v14c0 1.1.9 2 2 2h14c1.1 0 2-.9 2-2V5c0-1.1-.9-2-2-2zM9 17H7v-7h2v7zm4 0h-2V7h2v10zm4 0h-2v-4h2v4z\"/>\n",
              "    </g>\n",
              "</svg>\n",
              "  </button>\n",
              "\n",
              "<style>\n",
              "  .colab-df-quickchart {\n",
              "      --bg-color: #E8F0FE;\n",
              "      --fill-color: #1967D2;\n",
              "      --hover-bg-color: #E2EBFA;\n",
              "      --hover-fill-color: #174EA6;\n",
              "      --disabled-fill-color: #AAA;\n",
              "      --disabled-bg-color: #DDD;\n",
              "  }\n",
              "\n",
              "  [theme=dark] .colab-df-quickchart {\n",
              "      --bg-color: #3B4455;\n",
              "      --fill-color: #D2E3FC;\n",
              "      --hover-bg-color: #434B5C;\n",
              "      --hover-fill-color: #FFFFFF;\n",
              "      --disabled-bg-color: #3B4455;\n",
              "      --disabled-fill-color: #666;\n",
              "  }\n",
              "\n",
              "  .colab-df-quickchart {\n",
              "    background-color: var(--bg-color);\n",
              "    border: none;\n",
              "    border-radius: 50%;\n",
              "    cursor: pointer;\n",
              "    display: none;\n",
              "    fill: var(--fill-color);\n",
              "    height: 32px;\n",
              "    padding: 0;\n",
              "    width: 32px;\n",
              "  }\n",
              "\n",
              "  .colab-df-quickchart:hover {\n",
              "    background-color: var(--hover-bg-color);\n",
              "    box-shadow: 0 1px 2px rgba(60, 64, 67, 0.3), 0 1px 3px 1px rgba(60, 64, 67, 0.15);\n",
              "    fill: var(--button-hover-fill-color);\n",
              "  }\n",
              "\n",
              "  .colab-df-quickchart-complete:disabled,\n",
              "  .colab-df-quickchart-complete:disabled:hover {\n",
              "    background-color: var(--disabled-bg-color);\n",
              "    fill: var(--disabled-fill-color);\n",
              "    box-shadow: none;\n",
              "  }\n",
              "\n",
              "  .colab-df-spinner {\n",
              "    border: 2px solid var(--fill-color);\n",
              "    border-color: transparent;\n",
              "    border-bottom-color: var(--fill-color);\n",
              "    animation:\n",
              "      spin 1s steps(1) infinite;\n",
              "  }\n",
              "\n",
              "  @keyframes spin {\n",
              "    0% {\n",
              "      border-color: transparent;\n",
              "      border-bottom-color: var(--fill-color);\n",
              "      border-left-color: var(--fill-color);\n",
              "    }\n",
              "    20% {\n",
              "      border-color: transparent;\n",
              "      border-left-color: var(--fill-color);\n",
              "      border-top-color: var(--fill-color);\n",
              "    }\n",
              "    30% {\n",
              "      border-color: transparent;\n",
              "      border-left-color: var(--fill-color);\n",
              "      border-top-color: var(--fill-color);\n",
              "      border-right-color: var(--fill-color);\n",
              "    }\n",
              "    40% {\n",
              "      border-color: transparent;\n",
              "      border-right-color: var(--fill-color);\n",
              "      border-top-color: var(--fill-color);\n",
              "    }\n",
              "    60% {\n",
              "      border-color: transparent;\n",
              "      border-right-color: var(--fill-color);\n",
              "    }\n",
              "    80% {\n",
              "      border-color: transparent;\n",
              "      border-right-color: var(--fill-color);\n",
              "      border-bottom-color: var(--fill-color);\n",
              "    }\n",
              "    90% {\n",
              "      border-color: transparent;\n",
              "      border-bottom-color: var(--fill-color);\n",
              "    }\n",
              "  }\n",
              "</style>\n",
              "\n",
              "  <script>\n",
              "    async function quickchart(key) {\n",
              "      const quickchartButtonEl =\n",
              "        document.querySelector('#' + key + ' button');\n",
              "      quickchartButtonEl.disabled = true;  // To prevent multiple clicks.\n",
              "      quickchartButtonEl.classList.add('colab-df-spinner');\n",
              "      try {\n",
              "        const charts = await google.colab.kernel.invokeFunction(\n",
              "            'suggestCharts', [key], {});\n",
              "      } catch (error) {\n",
              "        console.error('Error during call to suggestCharts:', error);\n",
              "      }\n",
              "      quickchartButtonEl.classList.remove('colab-df-spinner');\n",
              "      quickchartButtonEl.classList.add('colab-df-quickchart-complete');\n",
              "    }\n",
              "    (() => {\n",
              "      let quickchartButtonEl =\n",
              "        document.querySelector('#df-c21f7fa3-6f36-44ed-8168-1bf8a45efd45 button');\n",
              "      quickchartButtonEl.style.display =\n",
              "        google.colab.kernel.accessAllowed ? 'block' : 'none';\n",
              "    })();\n",
              "  </script>\n",
              "</div>\n",
              "    </div>\n",
              "  </div>\n"
            ]
          },
          "metadata": {},
          "execution_count": 7
        }
      ]
    },
    {
      "cell_type": "code",
      "source": [
        "#оценим маштаб полноты информации. Подсчитаем общее количество заказов в датасете.\n",
        "# Оценим количество заказов с отсутствующими данными (NaN) в каждой колонке, чтобы понять масштаб потерь информации.\n",
        "# Проверим количество анонимных заказов, то есть заказов без идентификатора заказчика.\n",
        "\n",
        "# Загрузка датасета\n",
        "file_path = '/content/1dataset.csv'\n",
        "data = pd.read_csv(file_path)\n",
        "\n",
        "# Общее количество заказов\n",
        "total_orders = len(data)\n",
        "\n",
        "# Подсчет заказов с отсутствующими данными (NaN) по каждой колонке\n",
        "nan_counts_per_column = data.isna().sum()\n",
        "\n",
        "# Подсчет анонимных заказов (без идентификатора заказчика)\n",
        "anonymous_orders = data['Заказчик'].isna().sum()\n",
        "\n",
        "print(f\"Общее количество заказов: {total_orders}\")\n",
        "print(\"Количество заказов с отсутствующими данными по колонкам:\")\n",
        "print(nan_counts_per_column)\n",
        "print(f\"Количество анонимных заказов: {anonymous_orders}\")\n"
      ],
      "metadata": {
        "colab": {
          "base_uri": "https://localhost:8080/"
        },
        "id": "JQJxJSBgyCuj",
        "outputId": "dd7c7e34-08b3-451b-a31a-5f6869e45213"
      },
      "execution_count": 8,
      "outputs": [
        {
          "output_type": "stream",
          "name": "stdout",
          "text": [
            "Общее количество заказов: 2310\n",
            "Количество заказов с отсутствующими данными по колонкам:\n",
            "№                   1357\n",
            "Оформлен            1357\n",
            "Заказчик            1357\n",
            "Тип заказа          1359\n",
            "Время доставки      1520\n",
            "Стоимость           1357\n",
            "Статус заказа       1378\n",
            "Товар                953\n",
            "Стоимость товара     953\n",
            "Количество           957\n",
            "dtype: int64\n",
            "Количество анонимных заказов: 1357\n"
          ]
        }
      ]
    },
    {
      "cell_type": "code",
      "source": [
        "import matplotlib.pyplot as plt\n",
        "\n",
        "# Данные о потерянной информации\n",
        "total_orders = 2310\n",
        "nan_counts = {\n",
        "    \"№\": 1357,\n",
        "    \"Оформлен\": 1357,\n",
        "    \"Заказчик\": 1357,\n",
        "    \"Тип заказа\": 1359,\n",
        "    \"Время доставки\": 1520,\n",
        "    \"Стоимость\": 1357,\n",
        "    \"Статус заказа\": 1378,\n",
        "    \"Товар\": 953,\n",
        "    \"Стоимость товара\": 953,\n",
        "    \"Количество\": 957\n",
        "}\n",
        "\n",
        "# Создание визуализации\n",
        "plt.figure(figsize=(10, 6))\n",
        "plt.barh(list(nan_counts.keys()), list(nan_counts.values()), color='skyblue')\n",
        "plt.xlabel('Количество заказов с отсутствующими данными')\n",
        "plt.title('Потеря данных в каждой колонке')\n",
        "plt.axvline(x=total_orders, color='red', linestyle='--')\n",
        "plt.text(total_orders + 30, 4, 'Всего заказов', color='red')\n",
        "\n",
        "# Показ графика\n",
        "plt.show()\n"
      ],
      "metadata": {
        "colab": {
          "base_uri": "https://localhost:8080/",
          "height": 564
        },
        "id": "tGsNe1xCy274",
        "outputId": "6274f66b-d4fc-48ea-9369-9aefba4b045d"
      },
      "execution_count": 9,
      "outputs": [
        {
          "output_type": "display_data",
          "data": {
            "text/plain": [
              "<Figure size 1000x600 with 1 Axes>"
            ],
            "image/png": "[encoded data removed]"
          },
          "metadata": {}
        }
      ]
    },
    {
      "cell_type": "code",
      "source": [
        "import pandas as pd\n",
        "\n",
        "\n",
        "\n",
        "# Предварительная обработка данных\n",
        "# Удаление строк, где товар не указан\n",
        "data_cleaned = data.dropna(subset=['Товар'])\n",
        "\n",
        "# Подсчет количества заказов каждого товара\n",
        "product_counts = data_cleaned['Товар'].value_counts()\n",
        "\n",
        "# Получение топ-10 наиболее популярных товаров\n",
        "top_products = product_counts.head(10)\n",
        "\n",
        "print(\"Топ-10 популярных товаров:\")\n",
        "print(top_products)\n"
      ],
      "metadata": {
        "colab": {
          "base_uri": "https://localhost:8080/"
        },
        "id": "hmUgQpWkxXfd",
        "outputId": "f95a73f7-81fc-41be-ba50-7fdac898bcd4"
      },
      "execution_count": 10,
      "outputs": [
        {
          "output_type": "stream",
          "name": "stdout",
          "text": [
            "Топ-10 популярных товаров:\n",
            "164038.0    1\n",
            "167073.0    1\n",
            "167002.0    1\n",
            "167003.0    1\n",
            "167021.0    1\n",
            "167022.0    1\n",
            "167023.0    1\n",
            "167024.0    1\n",
            "167033.0    1\n",
            "167034.0    1\n",
            "Name: Товар, dtype: int64\n"
          ]
        }
      ]
    },
    {
      "cell_type": "code",
      "source": [],
      "metadata": {
        "id": "nWK7GgYW0H6w"
      },
      "execution_count": null,
      "outputs": []
    }
  ]
}